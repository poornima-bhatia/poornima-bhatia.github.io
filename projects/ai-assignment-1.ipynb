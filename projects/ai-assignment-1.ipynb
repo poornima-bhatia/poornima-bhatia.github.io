{
 "cells": [
  {
   "cell_type": "markdown",
   "metadata": {},
   "source": [
    "---\n",
    "title: Artificial Intelligence <code>assignment-1</code>\n",
    "descrption: Artificial Intelligence Assignment-1\n",
    "author: Poornima Bhatia\n",
    "date: 'January 19, 2024'\n",
    "categories: 'Agent'\n",
    "image: False\n",
    "foramt:\n",
    "html:\n",
    "code-fold: true\n",
    "---"
   ]
  },
  {
   "cell_type": "markdown",
   "metadata": {},
   "source": [
    "A robotic soccer agent that plays on a team composed of 3 robots. The opposing\n",
    "team also has 3 robots and the field is defined as a 3 ft wide and 6 ft long.\n",
    "Assume standard soccer rules apply and the 3 robots may play any position you\n",
    "define."
   ]
  },
  {
   "cell_type": "markdown",
   "metadata": {},
   "source": [
    " <iframe src=\"../assets/pdf/assignment-1-answer.pdf\" width=\"100%\" height=\"500px\"></iframe>"
   ]
  }
 ],
 "metadata": {
  "kernelspec": {
   "display_name": "Python 3",
   "language": "python",
   "name": "python3"
  },
  "language_info": {
   "codemirror_mode": {
    "name": "ipython",
    "version": 3
   },
   "file_extension": ".py",
   "mimetype": "text/x-python",
   "name": "python",
   "nbconvert_exporter": "python",
   "pygments_lexer": "ipython3",
   "version": "3.12.5"
  }
 },
 "nbformat": 4,
 "nbformat_minor": 2
}
