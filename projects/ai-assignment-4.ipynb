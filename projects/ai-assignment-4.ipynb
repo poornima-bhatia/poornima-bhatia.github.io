{
 "cells": [
  {
   "cell_type": "markdown",
   "metadata": {},
   "source": [
    "---\n",
    "title: Artificial Intelligence <code>assignment-4</code>\n",
    "descrption: Artificial Intelligence Assignment-4\n",
    "author: Poornima Bhatia\n",
    "date: 'April 4, 2024'\n",
    "categories: 'LISP'\n",
    "# image: False\n",
    "foramt:\n",
    "html:\n",
    "code-fold: true\n",
    "---"
   ]
  },
  {
   "cell_type": "markdown",
   "metadata": {},
   "source": [
    "LISP Programming"
   ]
  },
  {
   "cell_type": "markdown",
   "metadata": {},
   "source": [
    "### Queation 1. Write a function called my-insert that inserts a given element into a list at a given location (starting with position zero). If the entered location is negative then the function places the new element at the beginning of the list. If the entered location is greater than the length of the list, then the function places the new element at the end of the list.\n",
    "\n",
    "(my-insert ‘a ‘(b c d e) 0) => (A B C D E)\n",
    "\n",
    "(my-insert ‘a ‘(b c d e) 3) => (B C D A E)\n",
    "\n",
    "(my-insert ‘a ‘(b c d e) 4) => (B C D E A)"
   ]
  },
  {
   "cell_type": "markdown",
   "metadata": {},
   "source": [
    "<pre>\n",
    "(format t \"Write a function called my-insert that inserts a given element into a list at a given\n",
    "location (starting with position zero). If the entered location is negative then the function places\n",
    "the new element at the beginning of the list. If the entered location is greater than the length of\n",
    "the list, then the function places the new element at the end of the list.~%\")\n",
    "\n",
    "(defun my-insert (element lst position)\n",
    "  (cond ((< position 0) (cons element lst))\n",
    "        ((>= position (length lst)) (append lst (list element)))\n",
    "        (t (append (subseq lst 0 position)\n",
    "                   (list element)\n",
    "                   (subseq lst position)))))\n",
    "(format t \"(my-insert 'a '(b c d e) 0) => ~{~a ~}~%\" (my-insert 'a '(b c d e) 0))\n",
    "(format t \"(my-insert 'a '(b c d e) 3) => ~{~a ~}~%\" (my-insert 'a '(b c d e) 3))\n",
    "(format t \"(my-insert 'a '(b c d e) 4) => ~{~a ~}~%\" (my-insert 'a '(b c d e) 4))  \n",
    "</pre>"
   ]
  },
  {
   "cell_type": "markdown",
   "metadata": {},
   "source": [
    "### Question 2. Write a function to remove duplicates from a list, the function is to be called myremv-dups. Note that the function is to retain the last instance of a duplicate element.\n",
    "\n",
    "(my-remv-dups ‘(a b a c a d)) => (B C A D)\n",
    "\n",
    "(my-remv-dups ‘(a b (a c) a d)) => (B (A C) A D)\n",
    "\n",
    "(my-remv-dups ‘(a b (b c) a (b c) d)) => (B A (B C) D)### Question 2: Write a function called greater that determines the greater number out of two numbers."
   ]
  },
  {
   "cell_type": "markdown",
   "metadata": {},
   "source": [
    "<pre>\n",
    "(format t \"Write a function to remove duplicates from a list, the function is to be called my-\n",
    "remv-dups. Note that the function is to retain the last instance of a duplicate element.~%\")\n",
    "\n",
    "(defun my-remv-dups (list_1)\n",
    "   ;; Check if the input list is empty\n",
    "  (if (null list_1)\n",
    "      ;; If the list is empty, return nil\n",
    "      \"input list is empty\"\n",
    "  ;; Otherwise, continue with the removal of duplicates\n",
    "  ;; Reverse the input list and bind it to 'reversed'\n",
    "  (let ((reversed (reverse list_1)))\n",
    "    ;; Define a local function 'helper' with parameters 'list_1' and 'list_2'\n",
    "    (labels ((helper (list_1 list_2)\n",
    "               ;; If the list is empty, return nil\n",
    "               (cond ((null list_1) nil)\n",
    "                     ;; If the first element of the list is already list_2, skip it\n",
    "                     ((member (car list_1) list_2 :test #'equal)\n",
    "                      (helper (cdr list_1) list_2))\n",
    "                     ;; Otherwise, cons the first element to the result and update the 'list_2' list\n",
    "                     (t\n",
    "                      (cons (car list_1)\n",
    "                            (helper (cdr list_1) (cons (car list_1) list_2)))))))\n",
    "      ;; Reverse the result of 'helper' and return it\n",
    "      (reverse (helper reversed nil))))))\n",
    "\n",
    "(format t \"(my-remv-dups '()) => ~@[~a~:*~]~%\" (my-remv-dups '()))\n",
    "(format t \"(my-remv-dups '(a b a c a d)) => ~{~a ~}~%\" (my-remv-dups '(a b a c a d)))\n",
    "(format t \"(my-remv-dups '(a b (a c) a d)) => ~{~a ~}~%\" (my-remv-dups '(a b (a c) a d)))\n",
    "(format t \"(my-remv-dups '(a b (b c) a (b c) d)) => ~{~a ~}~%\" (my-remv-dups '(a b a (b c) a (b c) d)))\n",
    "</pre>"
   ]
  }
 ],
 "metadata": {
  "kernelspec": {
   "display_name": "Python 3",
   "language": "python",
   "name": "python3"
  },
  "language_info": {
   "name": "python",
   "version": "3.12.5"
  }
 },
 "nbformat": 4,
 "nbformat_minor": 2
}
