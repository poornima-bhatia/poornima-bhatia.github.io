{
 "cells": [
  {
   "cell_type": "markdown",
   "metadata": {},
   "source": [
    "---\n",
    "title: Human Computer Interaction <code>project</code>\n",
    "descrption: Human Computer Interaction project\n",
    "author: Poornima Bhatia, Gangaram Siddam, Tanmay Somkuwar, Ananyaa Verma\n",
    "date: 'May 1, 2024'\n",
    "categories: ['User Experience' , 'HCI' , 'Agent Based']\n",
    "# image: False\n",
    "foramt:\n",
    "html:\n",
    "code-fold: true\n",
    "---"
   ]
  },
  {
   "cell_type": "markdown",
   "metadata": {},
   "source": [
    "Agent Based Interface"
   ]
  },
  {
   "cell_type": "markdown",
   "metadata": {},
   "source": [
    "### LITERATURE REVIEW"
   ]
  },
  {
   "cell_type": "markdown",
   "metadata": {},
   "source": [
    " <iframe src=\"../assets/pdf/literature-review-task-1.pdf\" width=\"100%\" height=\"500px\"></iframe>"
   ]
  },
  {
   "cell_type": "markdown",
   "metadata": {},
   "source": [
    "### Design Space"
   ]
  },
  {
   "cell_type": "markdown",
   "metadata": {},
   "source": [
    " <iframe src=\"../assets/pdf/task-2.pdf\" width=\"100%\" height=\"500px\"></iframe>"
   ]
  },
  {
   "cell_type": "markdown",
   "metadata": {},
   "source": [
    "### User Experience"
   ]
  },
  {
   "cell_type": "markdown",
   "metadata": {},
   "source": [
    " <iframe src=\"../assets/pdf/task-3.pdf\" width=\"100%\" height=\"500px\"></iframe>"
   ]
  },
  {
   "cell_type": "markdown",
   "metadata": {},
   "source": [
    "### Final Report"
   ]
  },
  {
   "cell_type": "markdown",
   "metadata": {},
   "source": [
    " <iframe src=\"../assets/pdf/task-4.pdf\" width=\"100%\" height=\"500px\"></iframe>"
   ]
  }
 ],
 "metadata": {
  "language_info": {
   "name": "python"
  }
 },
 "nbformat": 4,
 "nbformat_minor": 2
}
